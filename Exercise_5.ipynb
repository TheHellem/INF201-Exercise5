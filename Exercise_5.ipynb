{
 "cells": [
  {
   "cell_type": "markdown",
   "metadata": {},
   "source": [
    "## **Task 0: Warm-up exercise**"
   ]
  },
  {
   "cell_type": "markdown",
   "metadata": {},
   "source": [
    "First we create the inplace add vector function:"
   ]
  },
  {
   "cell_type": "code",
   "execution_count": 34,
   "metadata": {},
   "outputs": [
    {
     "name": "stdout",
     "output_type": "stream",
     "text": [
      "[5, 7, 9]\n"
     ]
    }
   ],
   "source": [
    "def inplace_add_vectors(vec1: list, vec2: list) -> list:\n",
    "    \"\"\" Perform vector addition\n",
    "    \"\"\"\n",
    "    if len(vec1) != len(vec2):\n",
    "        raise ValueError('Two vectors do not have the same dimension')\n",
    "    \n",
    "    for i in range(len(vec1)):\n",
    "        vec1[i] = vec1[i] + vec2[i]\n",
    "    \n",
    "    return vec1\n",
    "\n",
    "v1 = [1, 2, 3]\n",
    "v2 = [4, 5, 6]\n",
    "inplace_add_vectors(v1, v2)\n",
    "print(v1)"
   ]
  },
  {
   "cell_type": "markdown",
   "metadata": {},
   "source": [
    "Then we create the add vector function"
   ]
  },
  {
   "cell_type": "code",
   "execution_count": 35,
   "metadata": {},
   "outputs": [
    {
     "name": "stdout",
     "output_type": "stream",
     "text": [
      "[5, 7, 9]\n"
     ]
    }
   ],
   "source": [
    "def add_vectors(vec1: list, vec2: list) -> list:\n",
    "    \"\"\" Return a new vector where each element is \n",
    "    the sum of the corresponding elements from vec1 and vec2.\n",
    "    \"\"\"\n",
    "    vec3 = []\n",
    "    if len(vec1) != len(vec2):\n",
    "        raise ValueError('Two given vectors do not have the same dimension')\n",
    "    \n",
    "    for i in range(len(vec1)):\n",
    "        vec3.append(vec1[i] + vec2[i])\n",
    "    return vec3\n",
    "\n",
    "v1 = [1, 2, 3]\n",
    "v2 = [4, 5, 6]\n",
    "v3 = add_vectors(v1, v2)\n",
    "\n",
    "print(v3) "
   ]
  },
  {
   "cell_type": "markdown",
   "metadata": {},
   "source": [
    "## **Task 1: Matrix Operations**"
   ]
  },
  {
   "cell_type": "code",
   "execution_count": 36,
   "metadata": {},
   "outputs": [
    {
     "name": "stdout",
     "output_type": "stream",
     "text": [
      "[[96 18 95 ... 21  9 46]\n",
      " [10 69 37 ...  4 15 15]\n",
      " [23 56  3 ... 14 85 46]\n",
      " ...\n",
      " [61 34 22 ... 81 88 23]\n",
      " [14 55 91 ...  9 66 36]\n",
      " [44 87 27 ...  9 40  7]]\n"
     ]
    }
   ],
   "source": [
    "import numpy as np\n",
    "\n",
    "# Create a large matrix:\n",
    "n, m = 5000, 5000\n",
    "min, max = 0, 100\n",
    "matrix = np.random.randint(min, max, size = (n, m))\n",
    "\n",
    "print(matrix)\n"
   ]
  },
  {
   "cell_type": "code",
   "execution_count": 37,
   "metadata": {},
   "outputs": [
    {
     "data": {
      "text/plain": [
       "(5000, 5000)"
      ]
     },
     "execution_count": 37,
     "metadata": {},
     "output_type": "execute_result"
    }
   ],
   "source": [
    "np.shape(matrix)"
   ]
  },
  {
   "cell_type": "code",
   "execution_count": 38,
   "metadata": {},
   "outputs": [],
   "source": [
    "# Mean function\n",
    "def compute_mean(matrix):\n",
    "    \"\"\"Calculate the average of all numbers in the matrix\n",
    "    \"\"\"\n",
    "    rows, cols  = matrix.shape\n",
    "    num_entry = matrix.size\n",
    "    \n",
    "    sum = 0\n",
    "    for i in range(rows):\n",
    "        for j in range(cols):\n",
    "            sum += matrix[i][j]\n",
    "    \n",
    "    return sum / num_entry\n",
    "    "
   ]
  },
  {
   "cell_type": "code",
   "execution_count": 39,
   "metadata": {},
   "outputs": [
    {
     "data": {
      "text/plain": [
       "49.50048368"
      ]
     },
     "execution_count": 39,
     "metadata": {},
     "output_type": "execute_result"
    }
   ],
   "source": [
    "compute_mean(matrix)"
   ]
  },
  {
   "cell_type": "code",
   "execution_count": 40,
   "metadata": {},
   "outputs": [],
   "source": [
    "# Variance function:\n",
    "def compute_variance(matrix):\n",
    "    \"\"\"Calculate the variance of the matrix\n",
    "    \"\"\"\n",
    "    rows, cols  = matrix.shape\n",
    "    num_entry = matrix.size\n",
    "    \n",
    "    sum_square_diff = 0\n",
    "    mean = compute_mean(matrix)\n",
    "    for i in range(rows):\n",
    "        for j in range(cols):\n",
    "            sum_square_diff += (mean - matrix[i][j]) ** 2\n",
    "            \n",
    "    variance = sum_square_diff / num_entry\n",
    "    return variance"
   ]
  },
  {
   "cell_type": "code",
   "execution_count": 41,
   "metadata": {},
   "outputs": [
    {
     "data": {
      "text/plain": [
       "833.0699129639456"
      ]
     },
     "execution_count": 41,
     "metadata": {},
     "output_type": "execute_result"
    }
   ],
   "source": [
    "compute_variance(matrix)"
   ]
  },
  {
   "cell_type": "code",
   "execution_count": 42,
   "metadata": {},
   "outputs": [],
   "source": [
    "def compute_sum(matrix):\n",
    "    \"\"\"  Returns the total sum of all numbers in the matrix\n",
    "    \"\"\"\n",
    "    rows, cols  = matrix.shape\n",
    "    num_entry = matrix.size\n",
    "    \n",
    "    sum = 0 \n",
    "    for i in range(rows):\n",
    "        for j in range(cols):\n",
    "            sum += matrix[i][j]\n",
    "            \n",
    "    return sum"
   ]
  },
  {
   "cell_type": "code",
   "execution_count": 43,
   "metadata": {},
   "outputs": [
    {
     "data": {
      "text/plain": [
       "1237512092"
      ]
     },
     "execution_count": 43,
     "metadata": {},
     "output_type": "execute_result"
    }
   ],
   "source": [
    "compute_sum(matrix)"
   ]
  },
  {
   "cell_type": "code",
   "execution_count": 44,
   "metadata": {},
   "outputs": [],
   "source": [
    "def compute_mupltiply(matrix, number):\n",
    "    \"\"\" returns a new matrix \n",
    "    where each number in the input matrix is multiplied by a given number.\n",
    "    \"\"\"\n",
    "    new_matrix = matrix.copy()\n",
    "    \n",
    "    for i in range(matrix.shape[0]):\n",
    "        for j in range(matrix.shape[1]):\n",
    "            new_matrix[i][j] = number * matrix[i][j]\n",
    "            \n",
    "    return new_matrix"
   ]
  },
  {
   "cell_type": "code",
   "execution_count": 45,
   "metadata": {},
   "outputs": [
    {
     "data": {
      "text/plain": [
       "array([[192,  36, 190, ...,  42,  18,  92],\n",
       "       [ 20, 138,  74, ...,   8,  30,  30],\n",
       "       [ 46, 112,   6, ...,  28, 170,  92],\n",
       "       ...,\n",
       "       [122,  68,  44, ..., 162, 176,  46],\n",
       "       [ 28, 110, 182, ...,  18, 132,  72],\n",
       "       [ 88, 174,  54, ...,  18,  80,  14]])"
      ]
     },
     "execution_count": 45,
     "metadata": {},
     "output_type": "execute_result"
    }
   ],
   "source": [
    "compute_mupltiply(matrix, 2)"
   ]
  },
  {
   "cell_type": "markdown",
   "metadata": {},
   "source": [
    "## **Task 2: Stencil matrix**"
   ]
  },
  {
   "cell_type": "code",
   "execution_count": 46,
   "metadata": {},
   "outputs": [
    {
     "name": "stdout",
     "output_type": "stream",
     "text": [
      "[[-2.  1.  0. ...  0.  0.  0.]\n",
      " [ 1. -2.  1. ...  0.  0.  0.]\n",
      " [ 0.  1. -2. ...  0.  0.  0.]\n",
      " ...\n",
      " [ 0.  0.  0. ... -2.  1.  0.]\n",
      " [ 0.  0.  0. ...  1. -2.  1.]\n",
      " [ 0.  0.  0. ...  0.  1. -2.]]\n"
     ]
    }
   ],
   "source": [
    "# Create a stencil matrix\n",
    "def create_stencil_matrix(n):\n",
    "    A = np.zeros((n, n))\n",
    "    \n",
    "    for i in range(n):\n",
    "        A[i, i] = -2  # Diagonal elements\n",
    "        \n",
    "        if i > 0:\n",
    "            A[i, i-1] = 1  # Lower 1\n",
    "        \n",
    "        if i < n-1:\n",
    "            A[i, i+1] = 1  # Upper 1\n",
    "            \n",
    "    return A\n",
    "    \n",
    "print(create_stencil_matrix(50))"
   ]
  },
  {
   "cell_type": "code",
   "execution_count": 47,
   "metadata": {},
   "outputs": [
    {
     "ename": "ValueError",
     "evalue": "shapes (50,50) and (5000,) not aligned: 50 (dim 1) != 5000 (dim 0)",
     "output_type": "error",
     "traceback": [
      "\u001b[0;31m---------------------------------------------------------------------------\u001b[0m",
      "\u001b[0;31mValueError\u001b[0m                                Traceback (most recent call last)",
      "\u001b[1;32m/home/henrikh/dev/inf201-2/exercise_5/Exercise_5.ipynb Cell 19\u001b[0m line \u001b[0;36m<cell line: 5>\u001b[0;34m()\u001b[0m\n\u001b[1;32m      <a href='vscode-notebook-cell:/home/henrikh/dev/inf201-2/exercise_5/Exercise_5.ipynb#X24sZmlsZQ%3D%3D?line=3'>4</a>\u001b[0m N \u001b[39m=\u001b[39m \u001b[39m100\u001b[39m  \u001b[39m# Number of interations\u001b[39;00m\n\u001b[1;32m      <a href='vscode-notebook-cell:/home/henrikh/dev/inf201-2/exercise_5/Exercise_5.ipynb#X24sZmlsZQ%3D%3D?line=4'>5</a>\u001b[0m \u001b[39mfor\u001b[39;00m _ \u001b[39min\u001b[39;00m \u001b[39mrange\u001b[39m(N):\n\u001b[0;32m----> <a href='vscode-notebook-cell:/home/henrikh/dev/inf201-2/exercise_5/Exercise_5.ipynb#X24sZmlsZQ%3D%3D?line=5'>6</a>\u001b[0m     v \u001b[39m=\u001b[39m np\u001b[39m.\u001b[39;49mdot(A, v)\n\u001b[1;32m      <a href='vscode-notebook-cell:/home/henrikh/dev/inf201-2/exercise_5/Exercise_5.ipynb#X24sZmlsZQ%3D%3D?line=6'>7</a>\u001b[0m     v \u001b[39m=\u001b[39m v \u001b[39m/\u001b[39m np\u001b[39m.\u001b[39mlinalg\u001b[39m.\u001b[39mnorm(v)\n\u001b[1;32m      <a href='vscode-notebook-cell:/home/henrikh/dev/inf201-2/exercise_5/Exercise_5.ipynb#X24sZmlsZQ%3D%3D?line=8'>9</a>\u001b[0m \u001b[39m# Approximated dominant eigenvalue\u001b[39;00m\n",
      "File \u001b[0;32m<__array_function__ internals>:5\u001b[0m, in \u001b[0;36mdot\u001b[0;34m(*args, **kwargs)\u001b[0m\n",
      "\u001b[0;31mValueError\u001b[0m: shapes (50,50) and (5000,) not aligned: 50 (dim 1) != 5000 (dim 0)"
     ]
    }
   ],
   "source": [
    "# Create a random vector with 50 entries:\n",
    "v = np.random.rand(n)\n",
    "\n",
    "N = 100  # Number of interations\n",
    "for _ in range(N):\n",
    "    v = np.dot(A, v)\n",
    "    v = v / np.linalg.norm(v)\n",
    "\n",
    "# Approximated dominant eigenvalue\n",
    "app_dominant = np.dot(v, np.dot(A, v)) / np.dot(v,v)\n",
    "\n",
    "# Actual eigenvalues\n",
    "Lambda, V = np.linalg.eig(A)\n",
    "exact_dominant = np.max(np.abs(Lambda))\n",
    "\n",
    "print('-' * 75)\n",
    "print('|    Approximated Dominant Eigenvalue    |    Actual Dominant Eigenvalue  |')\n",
    "print('-' * 75)\n",
    "print(f'|              {app_dominant:.10f}             |           {exact_dominant:.10f}         |')\n",
    "print('-' * 75)\n"
   ]
  },
  {
   "cell_type": "markdown",
   "metadata": {},
   "source": [
    "## **Task 3: Challenge exercise**"
   ]
  },
  {
   "cell_type": "code",
   "execution_count": null,
   "metadata": {},
   "outputs": [],
   "source": [
    "def multiply_efficient(v: list) -> None:\n",
    "    \"\"\"\n",
    "    Computes the matrix-vector product without requiring the matrix.\n",
    "\n",
    "    Args:\n",
    "        v (list): a vector of size n.\n",
    "    \n",
    "    Returns:\n",
    "        w (np.ndarray): the resultant vector after matrix-vector multiplication.\n",
    "    \n",
    "    \"\"\"\n",
    "\n",
    "    n = len(v)\n",
    "    w = np.zeros(n)\n",
    "    \n",
    "    w[0] = -2 * v[0] + v[1]\n",
    "    \n",
    "    for i in range(1, n-1):\n",
    "        w[i] = v[i-1] - 2 * v[i] + v[i + 1]\n",
    "        \n",
    "    w[n-1] = v[n-2] - 2 * v[n-1]\n",
    "    \n",
    "    return w"
   ]
  },
  {
   "cell_type": "code",
   "execution_count": null,
   "metadata": {},
   "outputs": [
    {
     "name": "stdout",
     "output_type": "stream",
     "text": [
      "---------------------------------------------------------------------------\n",
      "|  Approximated Dominant Eigenvalue (*)  |    Actual Dominant Eigenvalue  |\n",
      "---------------------------------------------------------------------------\n",
      "|              -3.9939755033             |           3.9963511084         |\n",
      "---------------------------------------------------------------------------\n"
     ]
    }
   ],
   "source": [
    "for _ in range(N):\n",
    "    v = multiply_efficient(v)\n",
    "    v = v / np.linalg.norm(v)\n",
    "    \n",
    "app_dominant_1 = np.dot(v, multiply_efficient(v)) / np.dot(v,v)\n",
    "\n",
    "print('-' * 75)\n",
    "print('|  Approximated Dominant Eigenvalue (*)  |    Actual Dominant Eigenvalue  |')\n",
    "print('-' * 75)\n",
    "print(f'|              {app_dominant_1:.10f}             |           {exact_dominant:.10f}         |')\n",
    "print('-' * 75)"
   ]
  },
  {
   "cell_type": "code",
   "execution_count": null,
   "metadata": {},
   "outputs": [],
   "source": []
  }
 ],
 "metadata": {
  "kernelspec": {
   "display_name": ".venv",
   "language": "python",
   "name": "python3"
  },
  "language_info": {
   "codemirror_mode": {
    "name": "ipython",
    "version": 3
   },
   "file_extension": ".py",
   "mimetype": "text/x-python",
   "name": "python",
   "nbconvert_exporter": "python",
   "pygments_lexer": "ipython3",
   "version": "3.9.12"
  }
 },
 "nbformat": 4,
 "nbformat_minor": 2
}
