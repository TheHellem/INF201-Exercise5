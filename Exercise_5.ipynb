{
 "cells": [
  {
   "cell_type": "markdown",
   "metadata": {},
   "source": [
    "## **Task 0: Warm-up exercise**"
   ]
  },
  {
   "cell_type": "markdown",
   "metadata": {},
   "source": [
    "First we create the inplace add vector function_"
   ]
  },
  {
   "cell_type": "code",
   "execution_count": 1,
   "metadata": {},
   "outputs": [
    {
     "name": "stdout",
     "output_type": "stream",
     "text": [
      "[5, 7, 9]\n"
     ]
    }
   ],
   "source": [
    "def inplace_add_vectors(vec1: list, vec2: list) -> list:\n",
    "    \"\"\" Perform vector addition\n",
    "    \"\"\"\n",
    "    if len(vec1) != len(vec2):\n",
    "        raise ValueError('Two vectors do not have the same dimension')\n",
    "    \n",
    "    for i in range(len(vec1)):\n",
    "        vec1[i] = vec1[i] + vec2[i]\n",
    "    \n",
    "    return vec1\n",
    "\n",
    "v1 = [1, 2, 3]\n",
    "v2 = [4, 5, 6]\n",
    "inplace_add_vectors(v1, v2)\n",
    "print(v1)"
   ]
  },
  {
   "cell_type": "markdown",
   "metadata": {},
   "source": [
    "Then we create the add vector function"
   ]
  },
  {
   "cell_type": "code",
   "execution_count": 2,
   "metadata": {},
   "outputs": [],
   "source": [
    "def add_vectors(vec1: list, vec2: list) -> list:\n",
    "    \"\"\" Return a new vector where each element is \n",
    "    the sum of the corresponding elements from vec1 and vec2.\n",
    "    \"\"\"\n",
    "    vec3 = []\n",
    "    if len(vec1) != len(vec2):\n",
    "        raise ValueError('Two given vectors do not have the same dimension')\n",
    "    \n",
    "    for i in range(len(vec1)):\n",
    "        vec3.append(vec1[i] + vec2[i])\n",
    "    return vec3"
   ]
  },
  {
   "cell_type": "code",
   "execution_count": 3,
   "metadata": {},
   "outputs": [
    {
     "name": "stdout",
     "output_type": "stream",
     "text": [
      "[5, 7, 9]\n"
     ]
    }
   ],
   "source": [
    "v1 = [1, 2, 3]\n",
    "v2 = [4, 5, 6]\n",
    "v3 = add_vectors(v1, v2)\n",
    "\n",
    "print(v3) "
   ]
  },
  {
   "cell_type": "markdown",
   "metadata": {},
   "source": [
    "## **Task 1: Matrix Operations**"
   ]
  },
  {
   "cell_type": "code",
   "execution_count": 4,
   "metadata": {},
   "outputs": [
    {
     "name": "stdout",
     "output_type": "stream",
     "text": [
      "[[41 93 94 ... 20 94  4]\n",
      " [57 31 56 ... 57 34 57]\n",
      " [91 54 43 ... 14 99 89]\n",
      " ...\n",
      " [96 32 68 ... 41 54 66]\n",
      " [40 55 90 ... 19 75  2]\n",
      " [39 11 30 ... 51 51 80]]\n"
     ]
    }
   ],
   "source": [
    "import numpy as np\n",
    "\n",
    "# Create a large matrix:\n",
    "n, m = 5000, 5000\n",
    "min, max = 0, 100\n",
    "matrix = np.random.randint(min, max, size = (n, m))\n",
    "\n",
    "print(matrix)\n"
   ]
  },
  {
   "cell_type": "code",
   "execution_count": 5,
   "metadata": {},
   "outputs": [
    {
     "data": {
      "text/plain": [
       "(5000, 5000)"
      ]
     },
     "execution_count": 5,
     "metadata": {},
     "output_type": "execute_result"
    }
   ],
   "source": [
    "np.shape(matrix)"
   ]
  },
  {
   "cell_type": "code",
   "execution_count": 6,
   "metadata": {},
   "outputs": [],
   "source": [
    "# Mean function\n",
    "def compute_mean(matrix):\n",
    "    \"\"\"Calculate the average of all numbers in the matrix\n",
    "    \"\"\"\n",
    "    rows, cols  = matrix.shape\n",
    "    num_entry = matrix.size\n",
    "    \n",
    "    sum = 0\n",
    "    for i in range(rows):\n",
    "        for j in range(cols):\n",
    "            sum += matrix[i][j]\n",
    "    \n",
    "    return sum / num_entry\n",
    "    "
   ]
  },
  {
   "cell_type": "code",
   "execution_count": 7,
   "metadata": {},
   "outputs": [
    {
     "data": {
      "text/plain": [
       "49.50252896"
      ]
     },
     "execution_count": 7,
     "metadata": {},
     "output_type": "execute_result"
    }
   ],
   "source": [
    "compute_mean(matrix)"
   ]
  },
  {
   "cell_type": "code",
   "execution_count": 8,
   "metadata": {},
   "outputs": [],
   "source": [
    "# Variance function:\n",
    "def compute_variance(matrix):\n",
    "    \"\"\"Calculate the variance of the matrix\n",
    "    \"\"\"\n",
    "    rows, cols  = matrix.shape\n",
    "    num_entry = matrix.size\n",
    "    \n",
    "    sum_square_diff = 0\n",
    "    mean = compute_mean(matrix)\n",
    "    for i in range(rows):\n",
    "        for j in range(cols):\n",
    "            sum_square_diff += (mean - matrix[i][j]) ** 2\n",
    "            \n",
    "    variance = sum_square_diff / num_entry\n",
    "    return variance"
   ]
  },
  {
   "cell_type": "code",
   "execution_count": 9,
   "metadata": {},
   "outputs": [
    {
     "data": {
      "text/plain": [
       "833.283564479314"
      ]
     },
     "execution_count": 9,
     "metadata": {},
     "output_type": "execute_result"
    }
   ],
   "source": [
    "compute_variance(matrix)"
   ]
  },
  {
   "cell_type": "code",
   "execution_count": 10,
   "metadata": {},
   "outputs": [],
   "source": [
    "def compute_sum(matrix):\n",
    "    \"\"\"  Returns the total sum of all numbers in the matrix\n",
    "    \"\"\"\n",
    "    rows, cols  = matrix.shape\n",
    "    num_entry = matrix.size\n",
    "    \n",
    "    sum = 0 \n",
    "    for i in range(rows):\n",
    "        for j in range(cols):\n",
    "            sum += matrix[i][j]\n",
    "            \n",
    "    return sum"
   ]
  },
  {
   "cell_type": "code",
   "execution_count": 11,
   "metadata": {},
   "outputs": [
    {
     "data": {
      "text/plain": [
       "1237563224"
      ]
     },
     "execution_count": 11,
     "metadata": {},
     "output_type": "execute_result"
    }
   ],
   "source": [
    "compute_sum(matrix)"
   ]
  },
  {
   "cell_type": "code",
   "execution_count": 12,
   "metadata": {},
   "outputs": [],
   "source": [
    "def compute_mupltiply(matrix, number):\n",
    "    \"\"\" returns a new matrix \n",
    "    where each number in the input matrix is multiplied by a given number.\n",
    "    \"\"\"\n",
    "    new_matrix = matrix.copy()\n",
    "    \n",
    "    for i in range(matrix.shape[0]):\n",
    "        for j in range(matrix.shape[1]):\n",
    "            new_matrix[i][j] = number * matrix[i][j]\n",
    "            \n",
    "    return new_matrix"
   ]
  },
  {
   "cell_type": "code",
   "execution_count": 13,
   "metadata": {},
   "outputs": [
    {
     "data": {
      "text/plain": [
       "array([[ 82, 186, 188, ...,  40, 188,   8],\n",
       "       [114,  62, 112, ..., 114,  68, 114],\n",
       "       [182, 108,  86, ...,  28, 198, 178],\n",
       "       ...,\n",
       "       [192,  64, 136, ...,  82, 108, 132],\n",
       "       [ 80, 110, 180, ...,  38, 150,   4],\n",
       "       [ 78,  22,  60, ..., 102, 102, 160]])"
      ]
     },
     "execution_count": 13,
     "metadata": {},
     "output_type": "execute_result"
    }
   ],
   "source": [
    "compute_mupltiply(matrix, 2)"
   ]
  },
  {
   "cell_type": "markdown",
   "metadata": {},
   "source": [
    "## **Task 2: Stencil matrix**"
   ]
  },
  {
   "cell_type": "code",
   "execution_count": 14,
   "metadata": {},
   "outputs": [
    {
     "name": "stdout",
     "output_type": "stream",
     "text": [
      "[[-2.  1.  0. ...  0.  0.  1.]\n",
      " [ 1. -2.  1. ...  0.  0.  0.]\n",
      " [ 0.  1. -2. ...  0.  0.  0.]\n",
      " ...\n",
      " [ 0.  0.  0. ... -2.  1.  0.]\n",
      " [ 0.  0.  0. ...  1. -2.  1.]\n",
      " [ 0.  0.  0. ...  0.  1. -2.]]\n"
     ]
    }
   ],
   "source": [
    "# Create a stencil matrix\n",
    "n = 50\n",
    "A = np.zeros((n,n))\n",
    "\n",
    "for i in range(n):\n",
    "    A[i, i] = -2\n",
    "    A[i, i - 1] = 1\n",
    "    if i < n -1:\n",
    "        A[i, i + 1] = 1\n",
    "    \n",
    "print(A)"
   ]
  },
  {
   "cell_type": "code",
   "execution_count": 15,
   "metadata": {},
   "outputs": [
    {
     "name": "stdout",
     "output_type": "stream",
     "text": [
      "---------------------------------------------------------------------------\n",
      "|    Approximated Dominant Eigenvalue    |    Actual Dominant Eigenvalue  |\n",
      "---------------------------------------------------------------------------\n",
      "|              -3.9863713462             |           3.9963511084         |\n",
      "---------------------------------------------------------------------------\n"
     ]
    }
   ],
   "source": [
    "# Create a random vector with 50 entries:\n",
    "v = np.random.rand(n)\n",
    "\n",
    "N = 100  # Number of interations\n",
    "for _ in range(N):\n",
    "    v = np.dot(A, v)\n",
    "    v = v / np.linalg.norm(v)\n",
    "\n",
    "# Approximated dominant eigenvalue\n",
    "app_dominant = np.dot(v, np.dot(A, v)) / np.dot(v,v)\n",
    "\n",
    "# Actual eigenvalues\n",
    "Lambda, V = np.linalg.eig(A)\n",
    "exact_dominant = np.max(np.abs(Lambda))\n",
    "\n",
    "print('-' * 75)\n",
    "print('|    Approximated Dominant Eigenvalue    |    Actual Dominant Eigenvalue  |')\n",
    "print('-' * 75)\n",
    "print(f'|              {app_dominant:.10f}             |           {exact_dominant:.10f}         |')\n",
    "print('-' * 75)\n"
   ]
  },
  {
   "cell_type": "markdown",
   "metadata": {},
   "source": [
    "## **Task 3: Challenge exercise**"
   ]
  },
  {
   "cell_type": "code",
   "execution_count": 16,
   "metadata": {},
   "outputs": [],
   "source": [
    "def multiply_efficient(v: list) -> None:\n",
    "    \"\"\"\n",
    "    Computes the matrix-vector product without requiring the matrix.\n",
    "\n",
    "    Args:\n",
    "        v (list): a vector of size n.\n",
    "    \n",
    "    Returns:\n",
    "        w (np.ndarray): the resultant vector after matrix-vector multiplication.\n",
    "    \n",
    "    \"\"\"\n",
    "\n",
    "    n = len(v)\n",
    "    w = np.zeros(n)\n",
    "    \n",
    "    w[0] = -2 * v[0] + v[1]\n",
    "    \n",
    "    for i in range(1, n-1):\n",
    "        w[i] = v[i-1] - 2 * v[i] + v[i + 1]\n",
    "        \n",
    "    w[n-1] = v[n-2] - 2 * v[n-1]\n",
    "    \n",
    "    return w"
   ]
  },
  {
   "cell_type": "code",
   "execution_count": 17,
   "metadata": {},
   "outputs": [
    {
     "name": "stdout",
     "output_type": "stream",
     "text": [
      "---------------------------------------------------------------------------\n",
      "|  Approximated Dominant Eigenvalue (*)  |    Actual Dominant Eigenvalue  |\n",
      "---------------------------------------------------------------------------\n",
      "|              -3.9955283706             |           3.9963511084         |\n",
      "---------------------------------------------------------------------------\n"
     ]
    }
   ],
   "source": [
    "for _ in range(N):\n",
    "    v = multiply_efficient(v)\n",
    "    v = v / np.linalg.norm(v)\n",
    "    \n",
    "app_dominant_1 = np.dot(v, multiply_efficient(v)) / np.dot(v,v)\n",
    "\n",
    "print('-' * 75)\n",
    "print('|  Approximated Dominant Eigenvalue (*)  |    Actual Dominant Eigenvalue  |')\n",
    "print('-' * 75)\n",
    "print(f'|              {app_dominant_1:.10f}             |           {exact_dominant:.10f}         |')\n",
    "print('-' * 75)"
   ]
  },
  {
   "cell_type": "code",
   "execution_count": null,
   "metadata": {},
   "outputs": [],
   "source": []
  }
 ],
 "metadata": {
  "kernelspec": {
   "display_name": ".venv",
   "language": "python",
   "name": "python3"
  },
  "language_info": {
   "codemirror_mode": {
    "name": "ipython",
    "version": 3
   },
   "file_extension": ".py",
   "mimetype": "text/x-python",
   "name": "python",
   "nbconvert_exporter": "python",
   "pygments_lexer": "ipython3",
   "version": "3.9.12"
  }
 },
 "nbformat": 4,
 "nbformat_minor": 2
}
