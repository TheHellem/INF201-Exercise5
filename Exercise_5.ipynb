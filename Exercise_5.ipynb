{
 "cells": [
  {
   "cell_type": "markdown",
   "metadata": {},
   "source": [
    "## **Task 0: Warm-up exercise**"
   ]
  },
  {
   "cell_type": "markdown",
   "metadata": {},
   "source": [
    "First we create the inplace add vector function:"
   ]
  },
  {
   "cell_type": "code",
   "execution_count": 68,
   "metadata": {},
   "outputs": [
    {
     "name": "stdout",
     "output_type": "stream",
     "text": [
      "[5, 7, 9]\n"
     ]
    }
   ],
   "source": [
    "def inplace_add_vectors(vec1: list, vec2: list) -> list:\n",
    "    \"\"\" Perform vector addition\n",
    "    \"\"\"\n",
    "    if len(vec1) != len(vec2):\n",
    "        raise ValueError('Two vectors do not have the same dimension')\n",
    "    \n",
    "    for i in range(len(vec1)):\n",
    "        vec1[i] = vec1[i] + vec2[i]\n",
    "    \n",
    "    return vec1\n",
    "\n",
    "v1 = [1, 2, 3]\n",
    "v2 = [4, 5, 6]\n",
    "inplace_add_vectors(v1, v2)\n",
    "print(v1)"
   ]
  },
  {
   "cell_type": "markdown",
   "metadata": {},
   "source": [
    "Then we create the add vector function"
   ]
  },
  {
   "cell_type": "code",
   "execution_count": 69,
   "metadata": {},
   "outputs": [
    {
     "name": "stdout",
     "output_type": "stream",
     "text": [
      "[5, 7, 9]\n"
     ]
    }
   ],
   "source": [
    "def add_vectors(vec1: list, vec2: list) -> list:\n",
    "    \"\"\" Return a new vector where each element is \n",
    "    the sum of the corresponding elements from vec1 and vec2.\n",
    "    \"\"\"\n",
    "    vec3 = []\n",
    "    if len(vec1) != len(vec2):\n",
    "        raise ValueError('Two given vectors do not have the same dimension')\n",
    "    \n",
    "    for i in range(len(vec1)):\n",
    "        vec3.append(vec1[i] + vec2[i])\n",
    "    return vec3\n",
    "\n",
    "v1 = [1, 2, 3]\n",
    "v2 = [4, 5, 6]\n",
    "v3 = add_vectors(v1, v2)\n",
    "\n",
    "print(v3) "
   ]
  },
  {
   "cell_type": "markdown",
   "metadata": {},
   "source": [
    "## **Task 1: Matrix Operations**"
   ]
  },
  {
   "cell_type": "markdown",
   "metadata": {},
   "source": [
    "First we create the matrix as a numpy array:"
   ]
  },
  {
   "cell_type": "code",
   "execution_count": 85,
   "metadata": {},
   "outputs": [
    {
     "name": "stdout",
     "output_type": "stream",
     "text": [
      "[[ 8 33 29 ... 13 81 39]\n",
      " [99 93 55 ...  5 20 20]\n",
      " [61 88 98 ...  7 16 67]\n",
      " ...\n",
      " [88 51 32 ... 37 29 51]\n",
      " [61 51 10 ... 25 64 43]\n",
      " [76 14 47 ...  1 52 25]]\n"
     ]
    }
   ],
   "source": [
    "import numpy as np\n",
    "\n",
    "# Create a large matrix:\n",
    "array = np.random.randint(0, 101, size=(5000, 5000))\n",
    "print(array)"
   ]
  },
  {
   "cell_type": "markdown",
   "metadata": {},
   "source": [
    "We write a function to find the total sum of entries in the matrix"
   ]
  },
  {
   "cell_type": "code",
   "execution_count": 100,
   "metadata": {},
   "outputs": [
    {
     "name": "stdout",
     "output_type": "stream",
     "text": [
      "Total sum: 1250019590\n"
     ]
    }
   ],
   "source": [
    "def total_sum_matrix(matrix: list) -> int:\n",
    "    return sum(sum(row) for row in matrix)\n",
    "\n",
    "print(f\"Total sum: {total_sum_matrix(array)}\")"
   ]
  },
  {
   "cell_type": "markdown",
   "metadata": {},
   "source": [
    "Then we find the mean value:"
   ]
  },
  {
   "cell_type": "code",
   "execution_count": 101,
   "metadata": {},
   "outputs": [
    {
     "name": "stdout",
     "output_type": "stream",
     "text": [
      "Mean: 50.0007836\n"
     ]
    }
   ],
   "source": [
    "# Mean function\n",
    "def mean_matrix(matrix: list) -> float:\n",
    "    total_entries = len(matrix) * len(matrix[0])\n",
    "    return total_sum_matrix(matrix) / total_entries\n",
    "\n",
    "print(f\"Mean: {mean_matrix(array)}\")\n",
    "    "
   ]
  },
  {
   "cell_type": "markdown",
   "metadata": {},
   "source": [
    "Furthermore we find the variance"
   ]
  },
  {
   "cell_type": "code",
   "execution_count": 113,
   "metadata": {},
   "outputs": [
    {
     "name": "stdout",
     "output_type": "stream",
     "text": [
      "Variance: 850.3013750729502\n"
     ]
    }
   ],
   "source": [
    "# Function to find variance\n",
    "def variance_matrix(matrix: list) -> float:\n",
    "    mean = mean_matrix(matrix)\n",
    "    total_entries = len(matrix) * len(matrix[0])\n",
    "    \n",
    "    # Find the sum of ((\\mu - A_{ij} )\n",
    "    total_squared_diff = sum((element - mean) ** 2 for row in matrix for element in row)\n",
    "    \n",
    "    # Calculate variance\n",
    "    variance = total_squared_diff / total_entries\n",
    "    \n",
    "    return variance\n",
    "\n",
    "print(f\"Variance: {variance_matrix(array)}\")"
   ]
  },
  {
   "cell_type": "markdown",
   "metadata": {},
   "source": [
    "Lastly we write a function to multiply the matrix with a given number"
   ]
  },
  {
   "cell_type": "code",
   "execution_count": 116,
   "metadata": {},
   "outputs": [],
   "source": [
    "# Function to multiply matrix by given number\n",
    "def multiply_matrix_by_number(matrix: list, number: int) -> list:\n",
    "    # Create a deep copy of the matrix to avoid modifying the original matrix\n",
    "    multiplied_matrix = matrix.copy()\n",
    "    \n",
    "    for row in range(len(multiplied_matrix)):\n",
    "        for col in range(len(multiplied_matrix[0])):\n",
    "            multiplied_matrix[row][col] *= number\n",
    "    \n",
    "    return multiplied_matrix\n",
    "    \n",
    "\n",
    "# Choose 4 as given number:\n",
    "print(f\"Multiply by given n, where n=4: {multiply_matrix_by_number(array, 4)}\")"
   ]
  },
  {
   "cell_type": "markdown",
   "metadata": {},
   "source": [
    "## **Task 2: Stencil matrix**"
   ]
  },
  {
   "cell_type": "code",
   "execution_count": 118,
   "metadata": {},
   "outputs": [
    {
     "name": "stdout",
     "output_type": "stream",
     "text": [
      "[[-2.  1.  0. ...  0.  0.  0.]\n",
      " [ 1. -2.  1. ...  0.  0.  0.]\n",
      " [ 0.  1. -2. ...  0.  0.  0.]\n",
      " ...\n",
      " [ 0.  0.  0. ... -2.  1.  0.]\n",
      " [ 0.  0.  0. ...  1. -2.  1.]\n",
      " [ 0.  0.  0. ...  0.  1. -2.]]\n"
     ]
    }
   ],
   "source": [
    "# Create a stencil matrix\n",
    "def create_stencil_matrix(n):\n",
    "    A = np.zeros((n, n))\n",
    "    \n",
    "    for i in range(n):\n",
    "        A[i, i] = -2  # Diagonal elements\n",
    "        \n",
    "        if i > 0:\n",
    "            A[i, i-1] = 1  # Lower 1\n",
    "        \n",
    "        if i < n-1:\n",
    "            A[i, i+1] = 1  # Upper 1\n",
    "            \n",
    "    return A\n",
    "    \n",
    "A = create_stencil_matrix(50)\n",
    "print(A)"
   ]
  },
  {
   "cell_type": "code",
   "execution_count": 119,
   "metadata": {},
   "outputs": [
    {
     "name": "stdout",
     "output_type": "stream",
     "text": [
      "---------------------------------------------------------------------------\n",
      "|    Approximated Dominant Eigenvalue    |    Actual Dominant Eigenvalue  |\n",
      "---------------------------------------------------------------------------\n",
      "|              -3.9732981209             |           3.9962066575         |\n",
      "---------------------------------------------------------------------------\n"
     ]
    }
   ],
   "source": [
    "# Create a random vector with 50 entries:\n",
    "v = np.random.rand(50)\n",
    "\n",
    "N = 100  # Number of interations\n",
    "for _ in range(N):\n",
    "    v = np.dot(A, v)\n",
    "    v = v / np.linalg.norm(v)\n",
    "\n",
    "# Approximated dominant eigenvalue\n",
    "app_dominant = np.dot(v, np.dot(A, v)) / np.dot(v,v)\n",
    "\n",
    "# Actual eigenvalues\n",
    "Lambda, V = np.linalg.eig(A)\n",
    "exact_dominant = np.max(np.abs(Lambda))\n",
    "\n",
    "print('-' * 75)\n",
    "print('|    Approximated Dominant Eigenvalue    |    Actual Dominant Eigenvalue  |')\n",
    "print('-' * 75)\n",
    "print(f'|              {app_dominant:.10f}             |           {exact_dominant:.10f}         |')\n",
    "print('-' * 75)\n"
   ]
  },
  {
   "cell_type": "markdown",
   "metadata": {},
   "source": [
    "## **Task 3: Challenge exercise**"
   ]
  },
  {
   "cell_type": "code",
   "execution_count": 120,
   "metadata": {},
   "outputs": [],
   "source": [
    "def multiply_efficient(v: list) -> None:\n",
    "    \"\"\"\n",
    "    Computes the matrix-vector product without requiring the matrix.\n",
    "\n",
    "    Args:\n",
    "        v (list): a vector of size n.\n",
    "    \n",
    "    Returns:\n",
    "        w (np.ndarray): the resultant vector after matrix-vector multiplication.\n",
    "    \n",
    "    \"\"\"\n",
    "\n",
    "    n = len(v)\n",
    "    w = np.zeros(n)\n",
    "    \n",
    "    w[0] = -2 * v[0] + v[1]\n",
    "    \n",
    "    for i in range(1, n-1):\n",
    "        w[i] = v[i-1] - 2 * v[i] + v[i + 1]\n",
    "        \n",
    "    w[n-1] = v[n-2] - 2 * v[n-1]\n",
    "    \n",
    "    return w"
   ]
  },
  {
   "cell_type": "code",
   "execution_count": 121,
   "metadata": {},
   "outputs": [
    {
     "name": "stdout",
     "output_type": "stream",
     "text": [
      "---------------------------------------------------------------------------\n",
      "|  Approximated Dominant Eigenvalue (*)  |    Actual Dominant Eigenvalue  |\n",
      "---------------------------------------------------------------------------\n",
      "|              -3.9865267758             |           3.9962066575         |\n",
      "---------------------------------------------------------------------------\n"
     ]
    }
   ],
   "source": [
    "for _ in range(N):\n",
    "    v = multiply_efficient(v)\n",
    "    v = v / np.linalg.norm(v)\n",
    "    \n",
    "app_dominant_1 = np.dot(v, multiply_efficient(v)) / np.dot(v,v)\n",
    "\n",
    "print('-' * 75)\n",
    "print('|  Approximated Dominant Eigenvalue (*)  |    Actual Dominant Eigenvalue  |')\n",
    "print('-' * 75)\n",
    "print(f'|              {app_dominant_1:.10f}             |           {exact_dominant:.10f}         |')\n",
    "print('-' * 75)"
   ]
  }
 ],
 "metadata": {
  "kernelspec": {
   "display_name": ".venv",
   "language": "python",
   "name": "python3"
  },
  "language_info": {
   "codemirror_mode": {
    "name": "ipython",
    "version": 3
   },
   "file_extension": ".py",
   "mimetype": "text/x-python",
   "name": "python",
   "nbconvert_exporter": "python",
   "pygments_lexer": "ipython3",
   "version": "3.9.12"
  }
 },
 "nbformat": 4,
 "nbformat_minor": 2
}
